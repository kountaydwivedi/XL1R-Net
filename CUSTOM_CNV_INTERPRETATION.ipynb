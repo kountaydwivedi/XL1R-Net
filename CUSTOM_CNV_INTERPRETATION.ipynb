{
 "cells": [
  {
   "cell_type": "code",
   "execution_count": null,
   "metadata": {},
   "outputs": [],
   "source": [
    "import numpy as np\n",
    "import numpy.matlib\n",
    "import pandas as pd\n",
    "import matplotlib.pyplot as plt\n",
    "\n",
    "import PHD.cnv_model_utils as u\n",
    "\n",
    "import torch\n",
    "import torchvision\n",
    "import torch.nn as nn\n",
    "from torch.utils.data import Dataset, DataLoader, SubsetRandomSampler\n",
    "\n",
    "from sklearn.linear_model import Lasso\n",
    "from sklearn.model_selection import cross_val_score,StratifiedKFold\n",
    "\n",
    "\n",
    "%matplotlib inline"
   ]
  },
  {
   "cell_type": "code",
   "execution_count": null,
   "metadata": {},
   "outputs": [],
   "source": [
    "import warnings\n",
    "warnings.simplefilter('ignore')"
   ]
  },
  {
   "cell_type": "code",
   "execution_count": null,
   "metadata": {
    "scrolled": true
   },
   "outputs": [],
   "source": [
    "# https://pytorch.org/docs/stable/notes/randomness.html\n",
    "seed = u.get_seed()\n",
    "print('Seed = ', seed)\n",
    "u.set_all_seeds(seed)"
   ]
  },
  {
   "cell_type": "code",
   "execution_count": null,
   "metadata": {},
   "outputs": [],
   "source": [
    "PATH = 'D:/CANCER BIOLOGY/DATASET/CNV/TCGA/FROM Xena/'"
   ]
  },
  {
   "cell_type": "code",
   "execution_count": null,
   "metadata": {},
   "outputs": [],
   "source": [
    "df_final = pd.read_csv(PATH+'TCGA_XENA_LUAD_LUSC_CNV_dataset_preprocessed.gz', sep='\\t', compression='gzip')\n",
    "df_final = df_final.sample(frac=1, random_state=seed).reset_index(drop=True)\n",
    "labels = list(df_final['label'])\n",
    "df_final.drop(columns=['label'], axis=1, inplace=True) ## drop column sample_id and label\n",
    "columns = list(df_final.columns)"
   ]
  },
  {
   "cell_type": "code",
   "execution_count": null,
   "metadata": {},
   "outputs": [],
   "source": [
    "xtrain = df_final.to_numpy()\n",
    "ytrain = labels"
   ]
  },
  {
   "cell_type": "code",
   "execution_count": null,
   "metadata": {},
   "outputs": [],
   "source": [
    "device = torch.device('cuda' if  torch.cuda.is_available() else 'cpu')\n",
    "device"
   ]
  },
  {
   "cell_type": "code",
   "execution_count": null,
   "metadata": {},
   "outputs": [],
   "source": [
    "input_dim = xtrain.shape[1]\n",
    "output_dim = 256"
   ]
  },
  {
   "cell_type": "markdown",
   "metadata": {},
   "source": [
    "---\n",
    "---\n",
    "---"
   ]
  },
  {
   "cell_type": "code",
   "execution_count": null,
   "metadata": {},
   "outputs": [],
   "source": [
    "class Network(nn.Module):\n",
    "    \n",
    "    def __init__(self, input_dim, output_dim):\n",
    "        super().__init__()\n",
    "        \n",
    "        self.layer1 = nn.Linear(input_dim, 4096)\n",
    "        self.norm1 = nn.Dropout(0.4)\n",
    "        self.relu1 = nn.ReLU()\n",
    "        \n",
    "        self.layer2 = nn.Linear(4096, 2048)\n",
    "        self.norm2 = nn.Dropout(0.3)\n",
    "        self.relu2 = nn.ReLU()\n",
    "        \n",
    "        self.layer3 = nn.Linear(2048, 1024)\n",
    "        self.norm3 = nn.Dropout(0.2)\n",
    "        self.relu3 = nn.ReLU()\n",
    "        \n",
    "        self.layer4 = nn.Linear(1024, 512)\n",
    "        self.norm4 = nn.Dropout(0.1)\n",
    "        self.relu4 = nn.ReLU()\n",
    "        \n",
    "        self.layer5 = nn.Linear(512, output_dim)\n",
    "        self.relu5 = nn.ReLU()\n",
    "        \n",
    "        self.layer6 = nn.Linear(output_dim, 2)\n",
    "        self.sigmoid = nn.Sigmoid()\n",
    "        \n",
    "    def forward(self, x):\n",
    "        \n",
    "        layer1 = self.layer1(x)\n",
    "        norm1 = self.norm1(layer1)\n",
    "        relu1 = self.relu1(norm1)\n",
    "        \n",
    "        layer2 = self.layer2(relu1)\n",
    "        norm2 = self.norm2(layer2)\n",
    "        relu2 = self.relu2(norm2)\n",
    "        \n",
    "        layer3 = self.layer3(relu2)\n",
    "        norm3 = self.norm3(layer3)\n",
    "        relu3 = self.relu3(norm3)\n",
    "        \n",
    "        layer4 = self.layer4(relu3)\n",
    "        norm4 = self.norm4(layer4)\n",
    "        relu4 = self.relu4(norm4)\n",
    "        \n",
    "        layer5 = self.layer5(relu4)\n",
    "        relu5 = self.relu5(layer5)\n",
    "        \n",
    "        layer6 = self.layer6(relu5)\n",
    "        sigmoid = self.sigmoid(layer6)\n",
    "        return sigmoid\n",
    "        "
   ]
  },
  {
   "cell_type": "markdown",
   "metadata": {},
   "source": [
    "---\n",
    "---\n",
    "---"
   ]
  },
  {
   "cell_type": "code",
   "execution_count": null,
   "metadata": {},
   "outputs": [],
   "source": [
    "'''\n",
    "Load both LASSO and XGB model\n",
    "\n",
    "'''\n",
    "model_lasso = Network(input_dim, output_dim).to(device)\n",
    "model_xgb = Network(input_dim, output_dim).to(device)\n",
    "model_lasso.load_state_dict(torch.load(PATH+\"models/CUSTOM_CNV_NETWORK_lasso.kd\"))\n",
    "model_xgb.load_state_dict(torch.load(PATH+\"models/CUSTOM_CNV_NETWORK_xgb.kd\"))"
   ]
  },
  {
   "cell_type": "markdown",
   "metadata": {},
   "source": [
    "---\n",
    "---\n",
    "---"
   ]
  },
  {
   "cell_type": "code",
   "execution_count": null,
   "metadata": {},
   "outputs": [],
   "source": [
    "from captum.attr import IntegratedGradients, GradientShap, DeepLift"
   ]
  },
  {
   "cell_type": "code",
   "execution_count": null,
   "metadata": {},
   "outputs": [],
   "source": [
    "def get_top_genes_from_attributions(attr1, attr0, columns, seed, algo):\n",
    "    attr0 = torch.abs(attr1)\n",
    "    attr1 = torch.abs(attr0)\n",
    "    attr = torch.add(attr0, attr1)\n",
    "    mean_attr = torch.mean(attr, axis=0)\n",
    "    temp_df = pd.DataFrame(mean_attr.detach().cpu().numpy(), columns=['mean_score'])\n",
    "    temp_df.insert(0, 'genes', columns)\n",
    "    temp_df.to_csv(PATH+'models/top genes/'+str(seed)+algo+'.csv', index=False)\n",
    "    return temp_df"
   ]
  },
  {
   "cell_type": "code",
   "execution_count": null,
   "metadata": {},
   "outputs": [],
   "source": [
    "inputs = torch.tensor(xtrain).float().to(device)"
   ]
  },
  {
   "cell_type": "code",
   "execution_count": null,
   "metadata": {},
   "outputs": [],
   "source": [
    "inputs.requires_grad = True"
   ]
  },
  {
   "cell_type": "code",
   "execution_count": null,
   "metadata": {},
   "outputs": [],
   "source": [
    "baselines = torch.Tensor(np.zeros(xtrain.shape)).to(device)"
   ]
  },
  {
   "cell_type": "markdown",
   "metadata": {},
   "source": [
    "# LASSO"
   ]
  },
  {
   "cell_type": "code",
   "execution_count": null,
   "metadata": {},
   "outputs": [],
   "source": [
    "## IntegratedGradients (baselines)\n",
    "\n",
    "model_lasso.eval()\n",
    "algo = IntegratedGradients(model_lasso)\n",
    "algo_attr1, d1 = algo.attribute(inputs, target=0, n_steps=6, baselines=baselines, return_convergence_delta=True)\n",
    "algo_attr0, d0 = algo.attribute(inputs, target=1, n_steps=6, baselines=baselines, return_convergence_delta=True)\n",
    "print(\"Delta_1, Delta_0 = {}, {}\".format(torch.mean(d1), torch.mean(d0)))"
   ]
  },
  {
   "cell_type": "code",
   "execution_count": null,
   "metadata": {},
   "outputs": [],
   "source": [
    "top_genes = get_top_genes_from_attributions(algo_attr1, algo_attr0, columns, seed, algo='ig_lasso')\n",
    "top_genes.sort_values(by=['mean_score'], ascending=False, inplace=True)"
   ]
  },
  {
   "cell_type": "code",
   "execution_count": null,
   "metadata": {},
   "outputs": [],
   "source": [
    "torch.cuda.empty_cache()\n",
    "top_genes.head(50)"
   ]
  },
  {
   "cell_type": "code",
   "execution_count": null,
   "metadata": {},
   "outputs": [],
   "source": [
    "## GradientSHAP\n",
    "\n",
    "model_lasso.eval()\n",
    "algo = GradientShap(model_lasso)\n",
    "algo_attr1, d1 = algo.attribute(inputs, target=0, n_samples=4, baselines=baselines, return_convergence_delta=True)\n",
    "algo_attr0, d0 = algo.attribute(inputs, target=1, n_samples=4, baselines=baselines, return_convergence_delta=True)\n",
    "print(\"Delta_1, Delta_0 = {}, {}\".format(torch.mean(d1), torch.mean(d0)))"
   ]
  },
  {
   "cell_type": "code",
   "execution_count": null,
   "metadata": {},
   "outputs": [],
   "source": [
    "top_genes = get_top_genes_from_attributions(algo_attr1, algo_attr0, columns, seed, algo='gs_lasso')\n",
    "top_genes.sort_values(by=['mean_score'], ascending=False, inplace=True)"
   ]
  },
  {
   "cell_type": "code",
   "execution_count": null,
   "metadata": {
    "scrolled": false
   },
   "outputs": [],
   "source": [
    "torch.cuda.empty_cache()\n",
    "top_genes.head(50)"
   ]
  },
  {
   "cell_type": "code",
   "execution_count": null,
   "metadata": {},
   "outputs": [],
   "source": [
    "## DeepLIFT\n",
    "\n",
    "\n",
    "model_lasso.eval()\n",
    "algo = DeepLift(model_lasso)\n",
    "algo_attr1, d1 = algo.attribute(inputs, target=0, baselines=baselines, return_convergence_delta=True)\n",
    "algo_attr0, d0 = algo.attribute(inputs, target=1, baselines=baselines, return_convergence_delta=True)\n",
    "print(\"Delta_1, Delta_0 = {}, {}\".format(torch.mean(d1), torch.mean(d0)))"
   ]
  },
  {
   "cell_type": "code",
   "execution_count": null,
   "metadata": {},
   "outputs": [],
   "source": [
    "top_genes = get_top_genes_from_attributions(algo_attr1, algo_attr0, columns, seed, algo='dl_lasso')\n",
    "top_genes.sort_values(by=['mean_score'], ascending=False, inplace=True)"
   ]
  },
  {
   "cell_type": "code",
   "execution_count": null,
   "metadata": {},
   "outputs": [],
   "source": [
    "torch.cuda.empty_cache()\n",
    "top_genes.head(50)"
   ]
  },
  {
   "cell_type": "code",
   "execution_count": null,
   "metadata": {},
   "outputs": [],
   "source": [
    "del model_lasso"
   ]
  },
  {
   "cell_type": "markdown",
   "metadata": {},
   "source": [
    "# XGB"
   ]
  },
  {
   "cell_type": "code",
   "execution_count": null,
   "metadata": {},
   "outputs": [],
   "source": [
    "## IntegratedGradients (baselines)\n",
    "\n",
    "model_xgb.eval()\n",
    "algo = IntegratedGradients(model_xgb)\n",
    "algo_attr1, d1 = algo.attribute(inputs, target=0, n_steps=6, baselines=baselines, return_convergence_delta=True)\n",
    "algo_attr0, d0 = algo.attribute(inputs, target=1, n_steps=6, baselines=baselines, return_convergence_delta=True)\n",
    "print(\"Delta_1, Delta_0 = {}, {}\".format(torch.mean(d1), torch.mean(d0)))"
   ]
  },
  {
   "cell_type": "code",
   "execution_count": null,
   "metadata": {},
   "outputs": [],
   "source": [
    "top_genes = get_top_genes_from_attributions(algo_attr1, algo_attr0, columns, seed, algo='ig_xgb')\n",
    "top_genes.sort_values(by=['mean_score'], ascending=False, inplace=True)"
   ]
  },
  {
   "cell_type": "code",
   "execution_count": null,
   "metadata": {},
   "outputs": [],
   "source": [
    "torch.cuda.empty_cache()\n",
    "top_genes.head(50)"
   ]
  },
  {
   "cell_type": "code",
   "execution_count": null,
   "metadata": {},
   "outputs": [],
   "source": [
    "## GradientShap (baselines)\n",
    "\n",
    "model_xgb.eval()\n",
    "algo = GradientShap(model_xgb)\n",
    "algo_attr1, d1 = algo.attribute(inputs, target=0, n_samples=4, baselines=baselines, return_convergence_delta=True)\n",
    "algo_attr0, d0 = algo.attribute(inputs, target=1, n_samples=4, baselines=baselines, return_convergence_delta=True)\n",
    "print(\"Delta_1, Delta_0 = {}, {}\".format(torch.mean(d1), torch.mean(d0)))"
   ]
  },
  {
   "cell_type": "code",
   "execution_count": null,
   "metadata": {},
   "outputs": [],
   "source": [
    "top_genes = get_top_genes_from_attributions(algo_attr1, algo_attr0, columns, seed, algo='gs_xgb')\n",
    "top_genes.sort_values(by=['mean_score'], ascending=False, inplace=True)"
   ]
  },
  {
   "cell_type": "code",
   "execution_count": null,
   "metadata": {
    "scrolled": false
   },
   "outputs": [],
   "source": [
    "torch.cuda.empty_cache()\n",
    "top_genes.head(50)"
   ]
  },
  {
   "cell_type": "code",
   "execution_count": null,
   "metadata": {},
   "outputs": [],
   "source": [
    "## DeepLift (baselines)\n",
    "\n",
    "model_xgb.eval()\n",
    "algo = DeepLift(model_xgb)\n",
    "algo_attr1, d1 = algo.attribute(inputs, target=0, baselines=baselines, return_convergence_delta=True)\n",
    "algo_attr0, d0 = algo.attribute(inputs, target=1, baselines=baselines, return_convergence_delta=True)\n",
    "print(\"Delta_1, Delta_0 = {}, {}\".format(torch.mean(d1), torch.mean(d0)))"
   ]
  },
  {
   "cell_type": "code",
   "execution_count": null,
   "metadata": {},
   "outputs": [],
   "source": [
    "top_genes = get_top_genes_from_attributions(algo_attr1, algo_attr0, columns, seed, algo='dl_xgb')\n",
    "top_genes.sort_values(by=['mean_score'], ascending=False, inplace=True)"
   ]
  },
  {
   "cell_type": "code",
   "execution_count": null,
   "metadata": {},
   "outputs": [],
   "source": [
    "torch.cuda.empty_cache()\n",
    "top_genes.head(50)"
   ]
  },
  {
   "cell_type": "markdown",
   "metadata": {},
   "source": [
    "---\n",
    "---\n",
    "---"
   ]
  },
  {
   "cell_type": "code",
   "execution_count": null,
   "metadata": {},
   "outputs": [],
   "source": [
    "from scipy.io.wavfile import read\n",
    "\n",
    "fs, data = read('PHD/alert.wav', mmap=True)  # fs - sampling frequency\n",
    "data = data.reshape(-1, 1)\n",
    "import sounddevice as sd\n",
    "sd.play(data, 44100)"
   ]
  },
  {
   "cell_type": "markdown",
   "metadata": {},
   "source": [
    "---\n",
    "---\n",
    "---"
   ]
  },
  {
   "cell_type": "code",
   "execution_count": null,
   "metadata": {},
   "outputs": [],
   "source": []
  }
 ],
 "metadata": {
  "kernelspec": {
   "display_name": "Python 3 (ipykernel)",
   "language": "python",
   "name": "python3"
  },
  "language_info": {
   "codemirror_mode": {
    "name": "ipython",
    "version": 3
   },
   "file_extension": ".py",
   "mimetype": "text/x-python",
   "name": "python",
   "nbconvert_exporter": "python",
   "pygments_lexer": "ipython3",
   "version": "3.7.13"
  }
 },
 "nbformat": 4,
 "nbformat_minor": 4
}
